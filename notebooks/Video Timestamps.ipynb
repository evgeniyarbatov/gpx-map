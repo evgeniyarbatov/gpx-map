{
 "cells": [
  {
   "cell_type": "code",
   "execution_count": 1,
   "id": "3731e66b",
   "metadata": {},
   "outputs": [],
   "source": [
    "import json"
   ]
  },
  {
   "cell_type": "code",
   "execution_count": 2,
   "id": "62fff67e",
   "metadata": {},
   "outputs": [],
   "source": [
    "def load_data(file_path):\n",
    "    with open(file_path, 'r') as file:\n",
    "        return json.load(file)"
   ]
  },
  {
   "cell_type": "code",
   "execution_count": 3,
   "id": "48044c70",
   "metadata": {},
   "outputs": [],
   "source": [
    "def seconds_to_hms(seconds):\n",
    "    h = seconds // 3600\n",
    "    m = (seconds % 3600) // 60\n",
    "    s = seconds % 60\n",
    "    return f\"{int(h):02}:{int(m):02}:{int(s):02}\""
   ]
  },
  {
   "cell_type": "code",
   "execution_count": 4,
   "id": "3ee03e77",
   "metadata": {},
   "outputs": [],
   "source": [
    "frame_rate = 1/3  # frames per second\n",
    "frame_interval = int(1 / frame_rate)  # seconds per frame"
   ]
  },
  {
   "cell_type": "code",
   "execution_count": 5,
   "id": "5807fbf4",
   "metadata": {},
   "outputs": [],
   "source": [
    "data = load_data('../tests/data.json')"
   ]
  },
  {
   "cell_type": "code",
   "execution_count": 6,
   "id": "81d9cf2c",
   "metadata": {},
   "outputs": [
    {
     "name": "stdout",
     "output_type": "stream",
     "text": [
      "00:00:00 - 0km\n",
      "00:00:30 - 5.5km\n",
      "00:01:00 - 10.5km\n",
      "00:01:30 - 15.5km\n",
      "00:02:00 - 20.5km\n",
      "00:02:30 - 25.5km\n",
      "00:03:00 - 30.5km\n",
      "00:03:30 - 35.5km\n",
      "00:04:00 - 40.5km\n",
      "00:04:30 - 45.5km\n",
      "00:05:00 - 50.5km\n",
      "00:05:30 - 55.5km\n",
      "00:06:00 - 60.5km\n",
      "00:06:30 - 65.5km\n",
      "00:07:00 - 70.5km\n",
      "00:07:30 - 75.5km\n",
      "00:08:00 - 80.5km\n",
      "00:08:30 - 85.5km\n",
      "00:09:00 - 90.5km\n",
      "00:09:30 - 95.5km\n",
      "00:10:00 - 100.5km\n"
     ]
    }
   ],
   "source": [
    "for i, entry in enumerate(data):\n",
    "    timestamp = seconds_to_hms(i * frame_interval)\n",
    "    if i == 0:\n",
    "        print(f\"{timestamp} - 0km\")\n",
    "    elif i % 10 == 0:\n",
    "        print(f\"{timestamp} - {entry['distance']}km\")"
   ]
  },
  {
   "cell_type": "code",
   "execution_count": null,
   "id": "56108b8f",
   "metadata": {},
   "outputs": [],
   "source": []
  }
 ],
 "metadata": {
  "kernelspec": {
   "display_name": "Python (real-time-data)",
   "language": "python",
   "name": "python3"
  },
  "language_info": {
   "codemirror_mode": {
    "name": "ipython",
    "version": 3
   },
   "file_extension": ".py",
   "mimetype": "text/x-python",
   "name": "python",
   "nbconvert_exporter": "python",
   "pygments_lexer": "ipython3",
   "version": "3.12.7"
  }
 },
 "nbformat": 4,
 "nbformat_minor": 5
}
