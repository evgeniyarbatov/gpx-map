{
 "cells": [
  {
   "cell_type": "code",
   "execution_count": null,
   "id": "33c31571",
   "metadata": {},
   "outputs": [],
   "source": [
    "import gpxpy\n",
    "import json\n",
    "\n",
    "from pyproj import Geod\n",
    "\n",
    "import pandas as pd\n",
    "from geopy.distance import geodesic"
   ]
  },
  {
   "cell_type": "code",
   "execution_count": null,
   "id": "a2812e4f-6558-47d2-a382-440bcdd8d9ac",
   "metadata": {},
   "outputs": [],
   "source": [
    "# import sys\n",
    "# !{sys.executable} -m pip install --break-system-packages --user  pandas"
   ]
  },
  {
   "cell_type": "code",
   "execution_count": null,
   "id": "bbec0ac7-c9b5-4cde-ba7e-ada393f16f8d",
   "metadata": {},
   "outputs": [],
   "source": [
    "def get_gpx_df(gpx_file):\n",
    "    with open(gpx_file, 'r') as file:\n",
    "        gpx = gpxpy.parse(file)\n",
    "\n",
    "    data = []\n",
    "    for track in gpx.tracks:\n",
    "        for segment in track.segments:\n",
    "            for point in segment.points:\n",
    "                data.append({\n",
    "                    'latitude': point.latitude,\n",
    "                    'longitude': point.longitude,\n",
    "                })\n",
    "\n",
    "    df = pd.DataFrame(data)\n",
    "\n",
    "    df['prev_latitude'] = df['latitude'].shift(1)\n",
    "    df['prev_longitude'] = df['longitude'].shift(1)\n",
    "    \n",
    "    df['distance'] = df.apply(lambda x: geodesic((x['prev_latitude'], x['prev_longitude']), (x['latitude'], x['longitude'])).meters if not pd.isna(x['prev_latitude']) and not pd.isna(x['prev_longitude']) else 0, axis=1)\n",
    "    df['accumulated_distance'] = df['distance'].cumsum()\n",
    "\n",
    "    df = df.drop(columns=[\n",
    "        'prev_latitude', \n",
    "        'prev_longitude',\n",
    "        'distance'\n",
    "    ])\n",
    "    \n",
    "    df.rename(columns={'accumulated_distance': 'distance'}, inplace=True)\n",
    "    \n",
    "    return df"
   ]
  },
  {
   "cell_type": "code",
   "execution_count": null,
   "id": "34340659",
   "metadata": {},
   "outputs": [],
   "source": [
    "df = get_gpx_df('../public/track.gpx')\n",
    "df.head(3)"
   ]
  },
  {
   "cell_type": "code",
   "execution_count": null,
   "id": "71ca4d57",
   "metadata": {},
   "outputs": [],
   "source": [
    "def get_segment_info(segment):\n",
    "    mid = len(segment) // 2\n",
    "    \n",
    "    geod = Geod(ellps='WGS84')\n",
    "    fwd_azimuth, _, _ = geod.inv(\n",
    "        segment[0][1], \n",
    "        segment[0][0], \n",
    "        segment[mid][1], \n",
    "        segment[mid][0]\n",
    "    )\n",
    "\n",
    "    return segment[0][0], segment[0][1], fwd_azimuth\n",
    "\n",
    "segments, current_segment = [], []\n",
    "distance, distance_counter = 0, 0\n",
    "sampling_interval_meters = 500.0\n",
    "\n",
    "for i, row in df.iterrows():\n",
    "    current_segment.append((row['latitude'], row['longitude']))\n",
    "    current_distance_count = row['distance'] // sampling_interval_meters\n",
    "    \n",
    "    if current_distance_count > distance_counter:\n",
    "        distance = round(row['distance'] / 1000.0, 2)\n",
    "        segments.append((current_segment, distance))\n",
    "        \n",
    "        current_segment = []\n",
    "        distance_counter = current_distance_count\n",
    "\n",
    "if current_segment:\n",
    "    segments.append((current_segment, distance))\n",
    "\n",
    "points = [(get_segment_info(segment[0]), segment[1]) for segment in segments]\n",
    "\n",
    "data = []\n",
    "for idx, ((lat, lon, fwd_azimuth), distance) in enumerate(points, start=1):\n",
    "    data.append({\n",
    "        \"name\": f\"img{idx:04}\", \n",
    "        \"lat\": lat, \n",
    "        \"lon\": lon, \n",
    "        \"azimuth\": -fwd_azimuth, \n",
    "        \"distance\": distance\n",
    "    })  \n",
    "    \n",
    "with open('../tests/data.json', 'w') as f:\n",
    "    json.dump(data, f, indent=4)"
   ]
  },
  {
   "cell_type": "code",
   "execution_count": null,
   "id": "2bdf66cb",
   "metadata": {},
   "outputs": [],
   "source": []
  }
 ],
 "metadata": {
  "kernelspec": {
   "display_name": "gpx-map",
   "language": "python",
   "name": "gpx-map"
  },
  "language_info": {
   "codemirror_mode": {
    "name": "ipython",
    "version": 3
   },
   "file_extension": ".py",
   "mimetype": "text/x-python",
   "name": "python",
   "nbconvert_exporter": "python",
   "pygments_lexer": "ipython3",
   "version": "3.13.5"
  }
 },
 "nbformat": 4,
 "nbformat_minor": 5
}
